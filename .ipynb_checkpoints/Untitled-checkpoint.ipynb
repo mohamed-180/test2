{
 "cells": [
  {
   "cell_type": "code",
   "execution_count": 2,
   "metadata": {},
   "outputs": [
    {
     "name": "stdout",
     "output_type": "stream",
     "text": [
      "0.479425538604203\n"
     ]
    }
   ],
   "source": [
    "\n",
    "import tkinter\n",
    "import math\n",
    "import pandas\n",
    "\n",
    "a = math.sin(.5)\n",
    "print(a)\n",
    "\n",
    "\n",
    "class App():\n",
    "    def __init__(self):\n",
    "        self.root = tkinter.Tk()\n",
    "        button = tkinter.Button(self.root, text='root quit', command=self.quit)\n",
    "        button.pack()\n",
    "        self.root.mainloop()\n",
    "\n",
    "    def quit(self):\n",
    "        self.root.destroy\n",
    "\n",
    "\n",
    "app = App()\n"
   ]
  },
  {
   "cell_type": "code",
   "execution_count": 3,
   "metadata": {},
   "outputs": [],
   "source": [
    "import math"
   ]
  },
  {
   "cell_type": "code",
   "execution_count": 4,
   "metadata": {},
   "outputs": [],
   "source": [
    "a = math.e"
   ]
  },
  {
   "cell_type": "code",
   "execution_count": null,
   "metadata": {},
   "outputs": [],
   "source": []
  }
 ],
 "metadata": {
  "kernelspec": {
   "display_name": "Python 3",
   "language": "python",
   "name": "python3"
  },
  "language_info": {
   "codemirror_mode": {
    "name": "ipython",
    "version": 3
   },
   "file_extension": ".py",
   "mimetype": "text/x-python",
   "name": "python",
   "nbconvert_exporter": "python",
   "pygments_lexer": "ipython3",
   "version": "3.6.5"
  }
 },
 "nbformat": 4,
 "nbformat_minor": 2
}
